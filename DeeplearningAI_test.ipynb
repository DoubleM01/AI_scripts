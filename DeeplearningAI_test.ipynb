{
 "cells": [
  {
   "cell_type": "code",
   "execution_count": 4,
   "metadata": {
    "collapsed": true
   },
   "outputs": [],
   "source": [
    "import numpy as np\n",
    "import tensorflow as tf\n",
    "from tensorflow.keras.layers import Dense\n",
    "from tensorflow.keras.activations import sigmoid\n"
   ]
  },
  {
   "cell_type": "code",
   "execution_count": null,
   "outputs": [],
   "source": [
    "def dense(a_in,w,b):\n",
    "    units = w.shape[1]\n",
    "    a_out = np.zeros()"
   ],
   "metadata": {
    "collapsed": false
   }
  },
  {
   "cell_type": "code",
   "execution_count": 3,
   "outputs": [
    {
     "data": {
      "text/plain": "<tf.Tensor: shape=(1, 3), dtype=float32, numpy=array([[0.        , 1.        , 0.01671791]], dtype=float32)>"
     },
     "execution_count": 3,
     "metadata": {},
     "output_type": "execute_result"
    }
   ],
   "source": [
    "X = np.array([[200.0, 17.0]])\n",
    "layer1 = Dense(units=3, activation=sigmoid)\n",
    "a1 = layer1(X)\n",
    "a1"
   ],
   "metadata": {
    "collapsed": false
   }
  },
  {
   "cell_type": "code",
   "execution_count": 4,
   "outputs": [
    {
     "data": {
      "text/plain": "<tf.Tensor: shape=(1, 1), dtype=float32, numpy=array([[0.48922104]], dtype=float32)>"
     },
     "execution_count": 4,
     "metadata": {},
     "output_type": "execute_result"
    }
   ],
   "source": [
    "layer2 = Dense(units=1, activation =sigmoid)\n",
    "a2 = layer2(a1)\n",
    "a2"
   ],
   "metadata": {
    "collapsed": false
   }
  },
  {
   "cell_type": "code",
   "execution_count": 20,
   "outputs": [],
   "source": [
    "import tensorflow.python.keras as tf\n",
    "from tensorflow.python.keras.activations import sigmoid\n",
    "from tensorflow.python.keras.layers import Dense\n",
    "from tensorflow.python.keras import Sequential\n",
    "import pandas as pd\n",
    "import numpy as np\n",
    "from sklearn.datasets import load_digits"
   ],
   "metadata": {
    "collapsed": false
   }
  },
  {
   "cell_type": "code",
   "execution_count": 48,
   "outputs": [],
   "source": [
    "digits = load_digits(n_class=2)\n",
    "X = digits.data\n",
    "y = digits.target"
   ],
   "metadata": {
    "collapsed": false
   }
  },
  {
   "cell_type": "code",
   "execution_count": 51,
   "outputs": [
    {
     "data": {
      "text/plain": "0"
     },
     "execution_count": 51,
     "metadata": {},
     "output_type": "execute_result"
    }
   ],
   "source": [
    "X.shape\n",
    "y[2]"
   ],
   "metadata": {
    "collapsed": false
   }
  },
  {
   "cell_type": "code",
   "execution_count": 52,
   "outputs": [
    {
     "name": "stdout",
     "output_type": "stream",
     "text": [
      "WARNING:tensorflow:Please add `keras.layers.InputLayer` instead of `keras.Input` to Sequential model. `keras.Input` is intended to be used by Functional model.\n"
     ]
    }
   ],
   "source": [
    "model = Sequential(\n",
    "    [\n",
    "        tf.Input(shape=(64,)),\n",
    "        Dense(units=25,activation=\"sigmoid\"),\n",
    "        Dense(units=15,activation=\"sigmoid\"),\n",
    "        Dense(units=1,activation=\"sigmoid\")\n",
    "    ],name=\"model1\"\n",
    ")"
   ],
   "metadata": {
    "collapsed": false
   }
  },
  {
   "cell_type": "code",
   "execution_count": 53,
   "outputs": [
    {
     "name": "stdout",
     "output_type": "stream",
     "text": [
      "Model: \"model1\"\n",
      "_________________________________________________________________\n",
      "Layer (type)                 Output Shape              Param #   \n",
      "=================================================================\n",
      "dense_14 (Dense)             (None, 25)                1625      \n",
      "_________________________________________________________________\n",
      "dense_15 (Dense)             (None, 15)                390       \n",
      "_________________________________________________________________\n",
      "dense_16 (Dense)             (None, 1)                 16        \n",
      "=================================================================\n",
      "Total params: 2,031\n",
      "Trainable params: 2,031\n",
      "Non-trainable params: 0\n",
      "_________________________________________________________________\n"
     ]
    }
   ],
   "source": [
    "model.summary()"
   ],
   "metadata": {
    "collapsed": false
   }
  },
  {
   "cell_type": "code",
   "execution_count": 66,
   "outputs": [
    {
     "name": "stdout",
     "output_type": "stream",
     "text": [
      "Epoch 1/20\n",
      "12/12 [==============================] - 1s 1ms/step - loss: 0.7705\n",
      "Epoch 2/20\n",
      "12/12 [==============================] - 0s 1ms/step - loss: 0.6921\n",
      "Epoch 3/20\n",
      "12/12 [==============================] - 0s 1ms/step - loss: 0.6252\n",
      "Epoch 4/20\n",
      "12/12 [==============================] - 0s 1ms/step - loss: 0.5664\n",
      "Epoch 5/20\n",
      "12/12 [==============================] - 0s 1ms/step - loss: 0.5132\n",
      "Epoch 6/20\n",
      "12/12 [==============================] - 0s 1ms/step - loss: 0.4665\n",
      "Epoch 7/20\n",
      "12/12 [==============================] - 0s 1ms/step - loss: 0.4244\n",
      "Epoch 8/20\n",
      "12/12 [==============================] - 0s 1ms/step - loss: 0.3833\n",
      "Epoch 9/20\n",
      "12/12 [==============================] - 0s 1ms/step - loss: 0.3470\n",
      "Epoch 10/20\n",
      "12/12 [==============================] - 0s 1ms/step - loss: 0.3147\n",
      "Epoch 11/20\n",
      "12/12 [==============================] - 0s 1ms/step - loss: 0.2861\n",
      "Epoch 12/20\n",
      "12/12 [==============================] - 0s 1ms/step - loss: 0.2604\n",
      "Epoch 13/20\n",
      "12/12 [==============================] - 0s 1ms/step - loss: 0.2376\n",
      "Epoch 14/20\n",
      "12/12 [==============================] - 0s 1ms/step - loss: 0.2172\n",
      "Epoch 15/20\n",
      "12/12 [==============================] - 0s 1ms/step - loss: 0.1992\n",
      "Epoch 16/20\n",
      "12/12 [==============================] - 0s 1ms/step - loss: 0.1835\n",
      "Epoch 17/20\n",
      "12/12 [==============================] - 0s 997us/step - loss: 0.1690\n",
      "Epoch 18/20\n",
      "12/12 [==============================] - 0s 1ms/step - loss: 0.1565\n",
      "Epoch 19/20\n",
      "12/12 [==============================] - 0s 907us/step - loss: 0.1448\n",
      "Epoch 20/20\n",
      "12/12 [==============================] - 0s 997us/step - loss: 0.1347\n"
     ]
    },
    {
     "data": {
      "text/plain": "<tensorflow.python.keras.callbacks.History at 0x22292ae3040>"
     },
     "execution_count": 66,
     "metadata": {},
     "output_type": "execute_result"
    }
   ],
   "source": [
    "#from tensorflow import optimizers\n",
    "from keras.optimizers import Adam\n",
    "model.compile(\n",
    "    loss=tf.losses.BinaryCrossentropy(),\n",
    "    optimizer= \"adam\",\n",
    ")\n",
    "model.fit(X,y,epochs=20)"
   ],
   "metadata": {
    "collapsed": false
   }
  },
  {
   "cell_type": "code",
   "execution_count": 87,
   "outputs": [
    {
     "name": "stdout",
     "output_type": "stream",
     "text": [
      "0\n"
     ]
    }
   ],
   "source": [
    "pred = model.predict(digits.images[0].reshape(1,64))\n",
    "r  = pred >= 0.5\n",
    "print(int(r))"
   ],
   "metadata": {
    "collapsed": false
   }
  },
  {
   "cell_type": "code",
   "execution_count": 77,
   "outputs": [
    {
     "data": {
      "text/plain": "<Figure size 432x288 with 0 Axes>"
     },
     "metadata": {},
     "output_type": "display_data"
    },
    {
     "data": {
      "text/plain": "<Figure size 288x288 with 1 Axes>",
      "image/png": "[encoded data removed]"
     },
     "metadata": {
      "needs_background": "light"
     },
     "output_type": "display_data"
    }
   ],
   "source": [
    "import matplotlib.pyplot as plt\n",
    "plt.gray()\n",
    "plt.matshow(digits.images[3])\n",
    "plt.show()"
   ],
   "metadata": {
    "collapsed": false
   }
  },
  {
   "cell_type": "code",
   "execution_count": 1,
   "outputs": [],
   "source": [
    "import tensorflow as tf\n",
    "from tensorflow.keras.layers import Dense\n",
    "from tensorflow.keras import Sequential\n",
    "from sklearn.datasets import load_digits\n",
    "import matplotlib.pyplot as plt"
   ],
   "metadata": {
    "collapsed": false
   }
  },
  {
   "cell_type": "code",
   "execution_count": 12,
   "outputs": [],
   "source": [
    "digits2= load_digits(n_class=2)\n",
    "X = digits2.data\n",
    "y = digits2.target"
   ],
   "metadata": {
    "collapsed": false
   }
  },
  {
   "cell_type": "markdown",
   "source": [
    "## data check"
   ],
   "metadata": {
    "collapsed": false
   }
  },
  {
   "cell_type": "code",
   "execution_count": 15,
   "outputs": [
    {
     "data": {
      "text/plain": "(360, 64)"
     },
     "execution_count": 15,
     "metadata": {},
     "output_type": "execute_result"
    }
   ],
   "source": [
    "X.shape"
   ],
   "metadata": {
    "collapsed": false
   }
  },
  {
   "cell_type": "markdown",
   "source": [
    "## plotting digits\n"
   ],
   "metadata": {
    "collapsed": false
   }
  },
  {
   "cell_type": "code",
   "execution_count": 14,
   "outputs": [
    {
     "data": {
      "text/plain": "<Figure size 432x288 with 0 Axes>"
     },
     "metadata": {},
     "output_type": "display_data"
    },
    {
     "data": {
      "text/plain": "<Figure size 288x288 with 1 Axes>",
      "image/png": "[encoded data removed]"
     },
     "metadata": {
      "needs_background": "light"
     },
     "output_type": "display_data"
    }
   ],
   "source": [
    "plt.gray()\n",
    "plt.matshow(digits2.images[10])\n",
    "plt.show()"
   ],
   "metadata": {
    "collapsed": false
   }
  },
  {
   "cell_type": "code",
   "execution_count": 21,
   "outputs": [],
   "source": [
    "model = Sequential([\n",
    "    tf.keras.Input(shape=(64,)),\n",
    "    Dense(units=25,activation=\"sigmoid\"),\n",
    "    Dense(units=15,activation=\"sigmoid\"),\n",
    "    Dense(units=1,activation=\"sigmoid\")\n",
    "],name=\"model1\")"
   ],
   "metadata": {
    "collapsed": false
   }
  },
  {
   "cell_type": "code",
   "execution_count": 25,
   "outputs": [
    {
     "name": "stdout",
     "output_type": "stream",
     "text": [
      "Epoch 1/20\n",
      "12/12 [==============================] - 0s 1ms/step - loss: 0.6880\n",
      "Epoch 2/20\n",
      "12/12 [==============================] - 0s 2ms/step - loss: 0.6059\n",
      "Epoch 3/20\n",
      "12/12 [==============================] - 0s 1ms/step - loss: 0.5350\n",
      "Epoch 4/20\n",
      "12/12 [==============================] - 0s 1ms/step - loss: 0.4707\n",
      "Epoch 5/20\n",
      "12/12 [==============================] - 0s 1ms/step - loss: 0.4148\n",
      "Epoch 6/20\n",
      "12/12 [==============================] - 0s 2ms/step - loss: 0.3623\n",
      "Epoch 7/20\n",
      "12/12 [==============================] - 0s 2ms/step - loss: 0.3172\n",
      "Epoch 8/20\n",
      "12/12 [==============================] - 0s 2ms/step - loss: 0.2794\n",
      "Epoch 9/20\n",
      "12/12 [==============================] - 0s 2ms/step - loss: 0.2478\n",
      "Epoch 10/20\n",
      "12/12 [==============================] - 0s 1ms/step - loss: 0.2211\n",
      "Epoch 11/20\n",
      "12/12 [==============================] - 0s 1ms/step - loss: 0.1985\n",
      "Epoch 12/20\n",
      "12/12 [==============================] - 0s 1ms/step - loss: 0.1789\n",
      "Epoch 13/20\n",
      "12/12 [==============================] - 0s 1ms/step - loss: 0.1626\n",
      "Epoch 14/20\n",
      "12/12 [==============================] - 0s 2ms/step - loss: 0.1477\n",
      "Epoch 15/20\n",
      "12/12 [==============================] - 0s 2ms/step - loss: 0.1351\n",
      "Epoch 16/20\n",
      "12/12 [==============================] - 0s 2ms/step - loss: 0.1241\n",
      "Epoch 17/20\n",
      "12/12 [==============================] - 0s 2ms/step - loss: 0.1141\n",
      "Epoch 18/20\n",
      "12/12 [==============================] - 0s 1ms/step - loss: 0.1052\n",
      "Epoch 19/20\n",
      "12/12 [==============================] - 0s 2ms/step - loss: 0.0975\n",
      "Epoch 20/20\n",
      "12/12 [==============================] - 0s 1ms/step - loss: 0.0906\n"
     ]
    },
    {
     "data": {
      "text/plain": "<keras.callbacks.History at 0x241c6af27f0>"
     },
     "execution_count": 25,
     "metadata": {},
     "output_type": "execute_result"
    }
   ],
   "source": [
    "model.compile(loss=tf.keras.losses.BinaryCrossentropy(),optimizer=\"adam\",)\n",
    "model.fit(X,y,epochs=20)"
   ],
   "metadata": {
    "collapsed": false
   }
  },
  {
   "cell_type": "code",
   "execution_count": 33,
   "outputs": [
    {
     "name": "stdout",
     "output_type": "stream",
     "text": [
      "1/1 [==============================] - 0s 92ms/step\n"
     ]
    },
    {
     "data": {
      "text/plain": "array([[0.95039946]], dtype=float32)"
     },
     "execution_count": 33,
     "metadata": {},
     "output_type": "execute_result"
    }
   ],
   "source": [
    "r = model.predict(digits2.images[1].reshape(1,64))\n",
    "r"
   ],
   "metadata": {
    "collapsed": false
   }
  },
  {
   "cell_type": "code",
   "execution_count": 27,
   "outputs": [
    {
     "data": {
      "text/plain": "(8, 8)"
     },
     "execution_count": 27,
     "metadata": {},
     "output_type": "execute_result"
    }
   ],
   "source": [
    "digits2.images[1].shape"
   ],
   "metadata": {
    "collapsed": false
   }
  },
  {
   "cell_type": "code",
   "execution_count": null,
   "outputs": [],
   "source": [],
   "metadata": {
    "collapsed": false
   }
  }
 ],
 "metadata": {
  "kernelspec": {
   "display_name": "Python 3",
   "language": "python",
   "name": "python3"
  },
  "language_info": {
   "codemirror_mode": {
    "name": "ipython",
    "version": 2
   },
   "file_extension": ".py",
   "mimetype": "text/x-python",
   "name": "python",
   "nbconvert_exporter": "python",
   "pygments_lexer": "ipython2",
   "version": "2.7.6"
  }
 },
 "nbformat": 4,
 "nbformat_minor": 0
}
