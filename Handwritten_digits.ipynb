{
 "cells": [
  {
   "cell_type": "code",
   "execution_count": 32,
   "metadata": {
    "collapsed": true
   },
   "outputs": [],
   "source": [
    "import numpy as np\n",
    "import matplotlib.pyplot as plt\n",
    "import tensorflow as tf\n",
    "from tensorflow.keras import Sequential\n",
    "from tensorflow.keras.layers import Dense\n",
    "from tensorflow.keras.activations import relu,softmax\n",
    "from tensorflow.keras.losses import sparse_categorical_crossentropy\n",
    "from sklearn.datasets import load_digits\n",
    "from sklearn.model_selection import train_test_split"
   ]
  },
  {
   "cell_type": "code",
   "execution_count": 28,
   "outputs": [
    {
     "name": "stdout",
     "output_type": "stream",
     "text": [
      "(1797, 64)\n"
     ]
    },
    {
     "data": {
      "text/plain": "(1257, 64)"
     },
     "execution_count": 28,
     "metadata": {},
     "output_type": "execute_result"
    }
   ],
   "source": [
    "digits = load_digits()\n",
    "X = digits.data\n",
    "y = digits.target\n",
    "print(X.shape)\n",
    "#y.shape\n",
    "X_train,X_test, y_train, y_test = train_test_split(X,y,test_size=0.3)\n",
    "X_train.shape"
   ],
   "metadata": {
    "collapsed": false
   }
  },
  {
   "cell_type": "code",
   "execution_count": 36,
   "outputs": [],
   "source": [
    "model = Sequential([\n",
    "    tf.keras.Input(shape=(64,)),\n",
    "    Dense(25, activation=relu),\n",
    "    Dense(15, activation=relu),\n",
    "    Dense(10, activation='softmax')\n",
    "],\n",
    "name='model')"
   ],
   "metadata": {
    "collapsed": false
   }
  },
  {
   "cell_type": "code",
   "execution_count": 53,
   "outputs": [],
   "source": [
    "model.compile(loss=sparse_categorical_crossentropy, optimizer='Adam')"
   ],
   "metadata": {
    "collapsed": false
   }
  },
  {
   "cell_type": "code",
   "execution_count": 54,
   "outputs": [
    {
     "name": "stdout",
     "output_type": "stream",
     "text": [
      "Epoch 1/100\n",
      "40/40 [==============================] - 0s 1ms/step - loss: 0.0019 \n",
      "Epoch 2/100\n",
      "40/40 [==============================] - 0s 1ms/step - loss: 0.0012\n",
      "Epoch 3/100\n",
      "40/40 [==============================] - 0s 1ms/step - loss: 9.4470e-04\n",
      "Epoch 4/100\n",
      "40/40 [==============================] - 0s 1ms/step - loss: 8.1581e-04\n",
      "Epoch 5/100\n",
      "40/40 [==============================] - 0s 1ms/step - loss: 7.4658e-04\n",
      "Epoch 6/100\n",
      "40/40 [==============================] - 0s 1ms/step - loss: 6.3522e-04\n",
      "Epoch 7/100\n",
      "40/40 [==============================] - 0s 1ms/step - loss: 5.9254e-04\n",
      "Epoch 8/100\n",
      "40/40 [==============================] - 0s 1ms/step - loss: 6.2163e-04\n",
      "Epoch 9/100\n",
      "40/40 [==============================] - 0s 1ms/step - loss: 4.4304e-04\n",
      "Epoch 10/100\n",
      "40/40 [==============================] - 0s 1ms/step - loss: 3.7219e-04\n",
      "Epoch 11/100\n",
      "40/40 [==============================] - 0s 1ms/step - loss: 3.7435e-04\n",
      "Epoch 12/100\n",
      "40/40 [==============================] - 0s 1ms/step - loss: 2.8275e-04\n",
      "Epoch 13/100\n",
      "40/40 [==============================] - 0s 1ms/step - loss: 2.8693e-04\n",
      "Epoch 14/100\n",
      "40/40 [==============================] - 0s 1ms/step - loss: 2.4498e-04\n",
      "Epoch 15/100\n",
      "40/40 [==============================] - 0s 1ms/step - loss: 2.3090e-04\n",
      "Epoch 16/100\n",
      "40/40 [==============================] - 0s 1ms/step - loss: 2.3636e-04\n",
      "Epoch 17/100\n",
      "40/40 [==============================] - 0s 1ms/step - loss: 1.8308e-04\n",
      "Epoch 18/100\n",
      "40/40 [==============================] - 0s 1ms/step - loss: 1.7548e-04\n",
      "Epoch 19/100\n",
      "40/40 [==============================] - 0s 1ms/step - loss: 1.6803e-04\n",
      "Epoch 20/100\n",
      "40/40 [==============================] - 0s 1ms/step - loss: 1.5873e-04\n",
      "Epoch 21/100\n",
      "40/40 [==============================] - 0s 1ms/step - loss: 1.3159e-04\n",
      "Epoch 22/100\n",
      "40/40 [==============================] - 0s 1ms/step - loss: 1.4404e-04\n",
      "Epoch 23/100\n",
      "40/40 [==============================] - 0s 1ms/step - loss: 1.2627e-04\n",
      "Epoch 24/100\n",
      "40/40 [==============================] - 0s 1ms/step - loss: 1.1062e-04\n",
      "Epoch 25/100\n",
      "40/40 [==============================] - 0s 1ms/step - loss: 1.0317e-04\n",
      "Epoch 26/100\n",
      "40/40 [==============================] - 0s 948us/step - loss: 1.0220e-04\n",
      "Epoch 27/100\n",
      "40/40 [==============================] - 0s 1ms/step - loss: 9.2748e-05\n",
      "Epoch 28/100\n",
      "40/40 [==============================] - 0s 1ms/step - loss: 8.9467e-05\n",
      "Epoch 29/100\n",
      "40/40 [==============================] - 0s 1ms/step - loss: 9.0676e-05\n",
      "Epoch 30/100\n",
      "40/40 [==============================] - 0s 1ms/step - loss: 7.6354e-05\n",
      "Epoch 31/100\n",
      "40/40 [==============================] - 0s 1ms/step - loss: 7.9848e-05\n",
      "Epoch 32/100\n",
      "40/40 [==============================] - 0s 1ms/step - loss: 7.1415e-05\n",
      "Epoch 33/100\n",
      "40/40 [==============================] - 0s 1ms/step - loss: 6.5047e-05\n",
      "Epoch 34/100\n",
      "40/40 [==============================] - 0s 1ms/step - loss: 6.5307e-05\n",
      "Epoch 35/100\n",
      "40/40 [==============================] - 0s 1ms/step - loss: 5.8153e-05\n",
      "Epoch 36/100\n",
      "40/40 [==============================] - 0s 1ms/step - loss: 5.5075e-05\n",
      "Epoch 37/100\n",
      "40/40 [==============================] - 0s 1ms/step - loss: 5.3994e-05\n",
      "Epoch 38/100\n",
      "40/40 [==============================] - 0s 2ms/step - loss: 4.8762e-05\n",
      "Epoch 39/100\n",
      "40/40 [==============================] - 0s 1ms/step - loss: 4.7828e-05\n",
      "Epoch 40/100\n",
      "40/40 [==============================] - 0s 1ms/step - loss: 4.5834e-05\n",
      "Epoch 41/100\n",
      "40/40 [==============================] - 0s 1ms/step - loss: 4.4805e-05\n",
      "Epoch 42/100\n",
      "40/40 [==============================] - 0s 1ms/step - loss: 4.1537e-05\n",
      "Epoch 43/100\n",
      "40/40 [==============================] - 0s 1ms/step - loss: 3.8486e-05\n",
      "Epoch 44/100\n",
      "40/40 [==============================] - 0s 1ms/step - loss: 3.8486e-05\n",
      "Epoch 45/100\n",
      "40/40 [==============================] - 0s 1ms/step - loss: 3.5073e-05\n",
      "Epoch 46/100\n",
      "40/40 [==============================] - 0s 1ms/step - loss: 3.3752e-05\n",
      "Epoch 47/100\n",
      "40/40 [==============================] - 0s 946us/step - loss: 3.2339e-05\n",
      "Epoch 48/100\n",
      "40/40 [==============================] - 0s 1ms/step - loss: 3.2771e-05\n",
      "Epoch 49/100\n",
      "40/40 [==============================] - 0s 1ms/step - loss: 3.0486e-05\n",
      "Epoch 50/100\n",
      "40/40 [==============================] - 0s 1ms/step - loss: 2.8739e-05\n",
      "Epoch 51/100\n",
      "40/40 [==============================] - 0s 1ms/step - loss: 2.7823e-05\n",
      "Epoch 52/100\n",
      "40/40 [==============================] - 0s 1ms/step - loss: 2.8856e-05\n",
      "Epoch 53/100\n",
      "40/40 [==============================] - 0s 1ms/step - loss: 2.6497e-05\n",
      "Epoch 54/100\n",
      "40/40 [==============================] - 0s 1ms/step - loss: 2.4892e-05\n",
      "Epoch 55/100\n",
      "40/40 [==============================] - 0s 1ms/step - loss: 2.3478e-05\n",
      "Epoch 56/100\n",
      "40/40 [==============================] - 0s 961us/step - loss: 2.2944e-05\n",
      "Epoch 57/100\n",
      "40/40 [==============================] - 0s 1ms/step - loss: 2.1946e-05\n",
      "Epoch 58/100\n",
      "40/40 [==============================] - 0s 1ms/step - loss: 2.0982e-05\n",
      "Epoch 59/100\n",
      "40/40 [==============================] - 0s 959us/step - loss: 2.1396e-05\n",
      "Epoch 60/100\n",
      "40/40 [==============================] - 0s 1ms/step - loss: 1.9593e-05\n",
      "Epoch 61/100\n",
      "40/40 [==============================] - 0s 1ms/step - loss: 1.8676e-05\n",
      "Epoch 62/100\n",
      "40/40 [==============================] - 0s 972us/step - loss: 1.7936e-05\n",
      "Epoch 63/100\n",
      "40/40 [==============================] - 0s 1ms/step - loss: 1.7150e-05\n",
      "Epoch 64/100\n",
      "40/40 [==============================] - 0s 1ms/step - loss: 1.6666e-05\n",
      "Epoch 65/100\n",
      "40/40 [==============================] - 0s 999us/step - loss: 1.5980e-05\n",
      "Epoch 66/100\n",
      "40/40 [==============================] - 0s 1ms/step - loss: 1.5874e-05\n",
      "Epoch 67/100\n",
      "40/40 [==============================] - 0s 1ms/step - loss: 1.5383e-05\n",
      "Epoch 68/100\n",
      "40/40 [==============================] - 0s 1ms/step - loss: 1.4641e-05\n",
      "Epoch 69/100\n",
      "40/40 [==============================] - 0s 1ms/step - loss: 1.4102e-05\n",
      "Epoch 70/100\n",
      "40/40 [==============================] - 0s 1ms/step - loss: 1.3505e-05\n",
      "Epoch 71/100\n",
      "40/40 [==============================] - 0s 1ms/step - loss: 1.3200e-05\n",
      "Epoch 72/100\n",
      "40/40 [==============================] - 0s 1ms/step - loss: 1.2709e-05\n",
      "Epoch 73/100\n",
      "40/40 [==============================] - 0s 1ms/step - loss: 1.2274e-05\n",
      "Epoch 74/100\n",
      "40/40 [==============================] - 0s 1ms/step - loss: 1.1963e-05\n",
      "Epoch 75/100\n",
      "40/40 [==============================] - 0s 1ms/step - loss: 1.1776e-05\n",
      "Epoch 76/100\n",
      "40/40 [==============================] - 0s 1ms/step - loss: 1.1303e-05\n",
      "Epoch 77/100\n",
      "40/40 [==============================] - 0s 1ms/step - loss: 1.0969e-05\n",
      "Epoch 78/100\n",
      "40/40 [==============================] - 0s 1ms/step - loss: 1.0924e-05\n",
      "Epoch 79/100\n",
      "40/40 [==============================] - 0s 1ms/step - loss: 1.0332e-05\n",
      "Epoch 80/100\n",
      "40/40 [==============================] - 0s 1ms/step - loss: 9.9156e-06\n",
      "Epoch 81/100\n",
      "40/40 [==============================] - 0s 1ms/step - loss: 9.5618e-06\n",
      "Epoch 82/100\n",
      "40/40 [==============================] - 0s 1ms/step - loss: 9.2665e-06\n",
      "Epoch 83/100\n",
      "40/40 [==============================] - 0s 1ms/step - loss: 9.1553e-06\n",
      "Epoch 84/100\n",
      "40/40 [==============================] - 0s 1ms/step - loss: 8.8874e-06\n",
      "Epoch 85/100\n",
      "40/40 [==============================] - 0s 1ms/step - loss: 8.4463e-06\n",
      "Epoch 86/100\n",
      "40/40 [==============================] - 0s 1ms/step - loss: 8.5240e-06\n",
      "Epoch 87/100\n",
      "40/40 [==============================] - 0s 1ms/step - loss: 8.3718e-06\n",
      "Epoch 88/100\n",
      "40/40 [==============================] - 0s 1ms/step - loss: 7.9162e-06\n",
      "Epoch 89/100\n",
      "40/40 [==============================] - 0s 1ms/step - loss: 7.5348e-06\n",
      "Epoch 90/100\n",
      "40/40 [==============================] - 0s 1ms/step - loss: 7.6053e-06\n",
      "Epoch 91/100\n",
      "40/40 [==============================] - 0s 1ms/step - loss: 7.0778e-06\n",
      "Epoch 92/100\n",
      "40/40 [==============================] - 0s 1ms/step - loss: 6.9139e-06\n",
      "Epoch 93/100\n",
      "40/40 [==============================] - 0s 1ms/step - loss: 6.7264e-06\n",
      "Epoch 94/100\n",
      "40/40 [==============================] - 0s 1ms/step - loss: 6.4871e-06\n",
      "Epoch 95/100\n",
      "40/40 [==============================] - 0s 1ms/step - loss: 6.3397e-06\n",
      "Epoch 96/100\n",
      "40/40 [==============================] - 0s 1ms/step - loss: 6.1275e-06\n",
      "Epoch 97/100\n",
      "40/40 [==============================] - 0s 1ms/step - loss: 5.9421e-06\n",
      "Epoch 98/100\n",
      "40/40 [==============================] - 0s 1ms/step - loss: 5.8087e-06\n",
      "Epoch 99/100\n",
      "40/40 [==============================] - 0s 1ms/step - loss: 5.9635e-06\n",
      "Epoch 100/100\n",
      "40/40 [==============================] - 0s 1ms/step - loss: 5.5094e-06\n"
     ]
    },
    {
     "data": {
      "text/plain": "<keras.callbacks.History at 0x1e64a50be80>"
     },
     "execution_count": 54,
     "metadata": {},
     "output_type": "execute_result"
    }
   ],
   "source": [
    "model.fit(X_train, y_train,epochs=100)"
   ],
   "metadata": {
    "collapsed": false
   }
  },
  {
   "cell_type": "code",
   "execution_count": 85,
   "outputs": [
    {
     "name": "stdout",
     "output_type": "stream",
     "text": [
      "9\n",
      "1/1 [==============================] - 0s 38ms/step\n"
     ]
    },
    {
     "data": {
      "text/plain": "array([[1.8263996e-09, 1.0240499e-10, 2.3812686e-14, 8.1512228e-12,\n        4.6372910e-09, 1.0680365e-07, 1.2320973e-12, 1.5136477e-07,\n        6.6500030e-07, 9.9999905e-01]], dtype=float32)"
     },
     "execution_count": 85,
     "metadata": {},
     "output_type": "execute_result"
    },
    {
     "data": {
      "text/plain": "<Figure size 432x288 with 1 Axes>",
      "image/png": "[encoded data removed]"
     },
     "metadata": {
      "needs_background": "light"
     },
     "output_type": "display_data"
    }
   ],
   "source": [
    "print(y_test[2])\n",
    "plt.imshow(X_test[2].reshape(8,8),cmap='gray')\n",
    "model.predict(X_test[2].reshape(1,64))"
   ],
   "metadata": {
    "collapsed": false
   }
  },
  {
   "cell_type": "code",
   "execution_count": 63,
   "outputs": [
    {
     "name": "stdout",
     "output_type": "stream",
     "text": [
      "17/17 [==============================] - 0s 935us/step - loss: 0.2837\n"
     ]
    },
    {
     "data": {
      "text/plain": "0.2836514711380005"
     },
     "execution_count": 63,
     "metadata": {},
     "output_type": "execute_result"
    }
   ],
   "source": [
    "model.evaluate(X_test,y_test)\n",
    "\n"
   ],
   "metadata": {
    "collapsed": false
   }
  }
 ],
 "metadata": {
  "kernelspec": {
   "display_name": "Python 3",
   "language": "python",
   "name": "python3"
  },
  "language_info": {
   "codemirror_mode": {
    "name": "ipython",
    "version": 2
   },
   "file_extension": ".py",
   "mimetype": "text/x-python",
   "name": "python",
   "nbconvert_exporter": "python",
   "pygments_lexer": "ipython2",
   "version": "2.7.6"
  }
 },
 "nbformat": 4,
 "nbformat_minor": 0
}
